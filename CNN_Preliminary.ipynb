{
 "cells": [
  {
   "cell_type": "code",
   "execution_count": 1,
   "metadata": {},
   "outputs": [],
   "source": [
    "from cv2 import resize\n",
    "import numpy as np\n",
    "import pandas as pd\n",
    "import matplotlib\n",
    "import os\n",
    "from matplotlib import image, pyplot as plt"
   ]
  },
  {
   "cell_type": "code",
   "execution_count": 2,
   "metadata": {},
   "outputs": [],
   "source": [
    "def get_image_data(h_types, window, h_type_image_count, dim, rand=0):\n",
    "    np.random.seed(rand)\n",
    "    data = []\n",
    "    labels = []\n",
    "    num_images_list = [h_type_image_count for _ in range(len(h_types))] if isinstance(h_type_image_count, int) else h_type_image_count\n",
    "    assert(len(num_images_list) == len(h_types))\n",
    "    \n",
    "    for h_type, num_images in zip(h_types, num_images_list):\n",
    "        print(f'Starting {h_type}.')\n",
    "        file_dir = f'dcms/renders/{h_type}/{window}/'\n",
    "        img_names = np.array(os.listdir(file_dir))\n",
    "        np.random.shuffle(img_names)\n",
    "        if (n := len(img_names)) < num_images:\n",
    "            print(f'You asked for {num_images}, but can only find {n} for {h_type}. Returning {n} images.')\n",
    "        else:\n",
    "            img_names = img_names[:num_images]\n",
    "\n",
    "        ACTUAL_NUM_IMAGES = len(img_names)\n",
    "\n",
    "        pulled_data = np.zeros([ACTUAL_NUM_IMAGES, dim[0] * dim[1]])\n",
    "\n",
    "        for i, img in enumerate(img_names):\n",
    "            if (i % 1000) == 0:\n",
    "                print(f'{h_type}: {i}/{pulled_data.shape[0]}')\n",
    "            im = np.mean(matplotlib.image.imread(file_dir + img),axis=2)\n",
    "            if ((s := im.shape) != (512,512)):\n",
    "                print(f'{img} not of correct dimensions (512,512). It is instead {s}. Removing image.')\n",
    "                ACTUAL_NUM_IMAGES -= 1\n",
    "                continue\n",
    "            pulled_data[i,:] = resize(im, dim).reshape(1, -1)\n",
    "        \n",
    "        data.append(pulled_data[:ACTUAL_NUM_IMAGES])\n",
    "        labels.append(np.repeat(h_type, ACTUAL_NUM_IMAGES))\n",
    "        print(f'Finished {h_type}.')\n",
    "    \n",
    "    return np.concatenate(data), np.concatenate(labels)"
   ]
  },
  {
   "cell_type": "code",
   "execution_count": 3,
   "metadata": {},
   "outputs": [
    {
     "name": "stdout",
     "output_type": "stream",
     "text": [
      "Starting epidural.\n",
      "epidural: 0/100\n",
      "Finished epidural.\n",
      "Starting normal.\n",
      "normal: 0/100\n",
      "Finished normal.\n",
      "Starting intraparenchymal.\n",
      "intraparenchymal: 0/100\n",
      "Finished intraparenchymal.\n",
      "Starting intraventricular.\n",
      "intraventricular: 0/100\n",
      "Finished intraventricular.\n",
      "Starting subarachnoid.\n",
      "subarachnoid: 0/100\n",
      "Finished subarachnoid.\n",
      "Starting subdural.\n",
      "subdural: 0/100\n",
      "ID_a9ab8569f.jpg not of correct dimensions (512,512). It is instead (408, 374). Removing image.\n",
      "Finished subdural.\n"
     ]
    }
   ],
   "source": [
    "X, y = get_image_data(['epidural', 'normal', 'intraparenchymal', 'intraventricular', 'subarachnoid', 'subdural'], 'brain_window', 100, (64,64))"
   ]
  },
  {
   "cell_type": "code",
   "execution_count": 4,
   "metadata": {},
   "outputs": [
    {
     "name": "stdout",
     "output_type": "stream",
     "text": [
      "(599, 4096)\n",
      "(599,)\n"
     ]
    }
   ],
   "source": [
    "print(X.shape)\n",
    "print(y.shape)"
   ]
  },
  {
   "cell_type": "code",
   "execution_count": 5,
   "metadata": {
    "scrolled": true
   },
   "outputs": [
    {
     "data": {
      "image/png": "[encoded data removed]",
      "text/plain": [
       "<Figure size 432x288 with 1 Axes>"
      ]
     },
     "metadata": {
      "needs_background": "light"
     },
     "output_type": "display_data"
    }
   ],
   "source": [
    "matplotlib.pyplot.imshow(X[2].reshape(64,64));"
   ]
  },
  {
   "cell_type": "code",
   "execution_count": 6,
   "metadata": {},
   "outputs": [],
   "source": [
    "import pandas as pd\n",
    "import numpy as np\n",
    "from matplotlib import pyplot as plt\n",
    "import matplotlib\n",
    "\n",
    "import tensorflow as tf\n",
    "from tensorflow import keras\n",
    "from tensorflow.python.keras.utils import np_utils\n",
    "from tensorflow.keras.models import Sequential\n",
    "from tensorflow.keras.layers import Dense, Activation, Dropout, Flatten, MaxPooling2D, Conv2D"
   ]
  },
  {
   "cell_type": "code",
   "execution_count": 7,
   "metadata": {},
   "outputs": [],
   "source": [
    "hem_type_dict = {'epidural':0,\n",
    "                 'intraparenchymal':1,\n",
    "                 'intraventricular':2,\n",
    "                 'normal':3,\n",
    "                 'subarachnoid':4,\n",
    "                 'subdural':5}\n",
    "y_numerical = np.array([hem_type_dict.get(i) for i in y])"
   ]
  },
  {
   "cell_type": "code",
   "execution_count": 8,
   "metadata": {},
   "outputs": [
    {
     "name": "stdout",
     "output_type": "stream",
     "text": [
      "(479,) (120,)\n",
      "(479, 4096) (120, 4096)\n"
     ]
    }
   ],
   "source": [
    "from sklearn.model_selection import train_test_split\n",
    "\n",
    "X_train, X_valid, y_train, y_valid = train_test_split(X, y_numerical, test_size=0.2, random_state=0)\n",
    "X_train2, X_valid2, y_train2, y_valid2 = train_test_split(X, y_numerical, test_size=0.2, random_state=0)\n",
    "X_train3, X_valid3, y_train3, y_valid3 = train_test_split(X, y_numerical, test_size=0.2, random_state=0)\n",
    "X_train4, X_valid4, y_train4, y_valid4 = train_test_split(X, y_numerical, test_size=0.2, random_state=0)\n",
    "print(y_train.shape, y_valid.shape)\n",
    "print(X_train.shape, X_valid.shape)"
   ]
  },
  {
   "cell_type": "markdown",
   "metadata": {},
   "source": [
    "<h3> NEURAL NETS! </h3>"
   ]
  },
  {
   "cell_type": "code",
   "execution_count": 9,
   "metadata": {},
   "outputs": [],
   "source": [
    "keras.backend.clear_session()\n",
    "np.random.seed(42)\n",
    "tf.random.set_seed(42)"
   ]
  },
  {
   "cell_type": "code",
   "execution_count": 10,
   "metadata": {},
   "outputs": [
    {
     "name": "stdout",
     "output_type": "stream",
     "text": [
      "(479, 64, 64, 1) (120, 64, 64, 1)\n"
     ]
    }
   ],
   "source": [
    "NUM_LABELS = 6\n",
    "\n",
    "# renormalize training data\n",
    "X_train = X_train.astype('float32')\n",
    "X_valid = X_valid.astype('float32')\n",
    "X_train /= 255\n",
    "X_valid /= 255\n",
    "\n",
    "\n",
    "X_train = X_train.reshape(-1,64,64,1)\n",
    "X_valid = X_valid.reshape(-1,64,64,1)\n",
    "\n",
    "y_train = np_utils.to_categorical(y_train, NUM_LABELS)\n",
    "y_valid = np_utils.to_categorical(y_valid, NUM_LABELS)\n",
    "\n",
    "print(X_train.shape, X_valid.shape)"
   ]
  },
  {
   "cell_type": "code",
   "execution_count": 11,
   "metadata": {},
   "outputs": [
    {
     "name": "stdout",
     "output_type": "stream",
     "text": [
      "Model: \"sequential\"\n",
      "_________________________________________________________________\n",
      " Layer (type)                Output Shape              Param #   \n",
      "=================================================================\n",
      " conv2d (Conv2D)             (None, 58, 58, 32)        1600      \n",
      "                                                                 \n",
      " max_pooling2d (MaxPooling2D  (None, 29, 29, 32)       0         \n",
      " )                                                               \n",
      "                                                                 \n",
      " conv2d_1 (Conv2D)           (None, 27, 27, 32)        9248      \n",
      "                                                                 \n",
      " max_pooling2d_1 (MaxPooling  (None, 13, 13, 32)       0         \n",
      " 2D)                                                             \n",
      "                                                                 \n",
      " dropout (Dropout)           (None, 13, 13, 32)        0         \n",
      "                                                                 \n",
      " flatten (Flatten)           (None, 5408)              0         \n",
      "                                                                 \n",
      " dense (Dense)               (None, 128)               692352    \n",
      "                                                                 \n",
      " dropout_1 (Dropout)         (None, 128)               0         \n",
      "                                                                 \n",
      " dense_1 (Dense)             (None, 6)                 774       \n",
      "                                                                 \n",
      "=================================================================\n",
      "Total params: 703,974\n",
      "Trainable params: 703,974\n",
      "Non-trainable params: 0\n",
      "_________________________________________________________________\n",
      "None\n"
     ]
    }
   ],
   "source": [
    "# Creating our model\n",
    "model = Sequential()\n",
    "\n",
    "model.add(Conv2D(32, (7,7),\n",
    "                 padding='valid',\n",
    "                 input_shape=(64,64,1),\n",
    "                 activation='relu'))\n",
    "model.add(MaxPooling2D(pool_size=(2,2)))\n",
    "model.add(Conv2D(32, (3,3),\n",
    "                 activation='relu'))\n",
    "model.add(MaxPooling2D(pool_size=(2,2)))\n",
    "model.add(Dropout(0.25))\n",
    " \n",
    "model.add(Flatten())\n",
    "model.add(Dense(units=128, activation='relu'))\n",
    "model.add(Dropout(0.5))\n",
    "model.add(Dense(units=NUM_LABELS, activation='softmax'))\n",
    "\n",
    "model.compile(loss='categorical_crossentropy',\n",
    "              optimizer='rmsprop',\n",
    "              metrics=['accuracy'])\n",
    "\n",
    "print(model.summary())"
   ]
  },
  {
   "cell_type": "code",
   "execution_count": 12,
   "metadata": {},
   "outputs": [],
   "source": [
    "keras.backend.clear_session()\n",
    "np.random.seed(42)\n",
    "tf.random.set_seed(42)"
   ]
  },
  {
   "cell_type": "code",
   "execution_count": 13,
   "metadata": {},
   "outputs": [
    {
     "name": "stdout",
     "output_type": "stream",
     "text": [
      "Epoch 1/5\n"
     ]
    },
    {
     "name": "stderr",
     "output_type": "stream",
     "text": [
      "2022-05-01 18:14:04.063389: W tensorflow/core/platform/profile_utils/cpu_utils.cc:128] Failed to get CPU frequency: 0 Hz\n"
     ]
    },
    {
     "name": "stdout",
     "output_type": "stream",
     "text": [
      "4/4 [==============================] - 1s 108ms/step - loss: 1.8339 - accuracy: 0.1608 - val_loss: 1.8014 - val_accuracy: 0.1583\n",
      "Epoch 2/5\n",
      "4/4 [==============================] - 0s 77ms/step - loss: 1.7832 - accuracy: 0.2338 - val_loss: 1.8063 - val_accuracy: 0.2000\n",
      "Epoch 3/5\n",
      "4/4 [==============================] - 0s 78ms/step - loss: 1.7502 - accuracy: 0.2568 - val_loss: 1.8376 - val_accuracy: 0.1333\n",
      "Epoch 4/5\n",
      "4/4 [==============================] - 0s 77ms/step - loss: 1.6978 - accuracy: 0.3152 - val_loss: 1.7968 - val_accuracy: 0.2083\n",
      "Epoch 5/5\n",
      "4/4 [==============================] - 0s 76ms/step - loss: 1.6864 - accuracy: 0.2797 - val_loss: 1.7563 - val_accuracy: 0.2750\n"
     ]
    }
   ],
   "source": [
    "epochs = 5\n",
    "\n",
    "history = model.fit(X_train, \n",
    "                    y_train, \n",
    "                    epochs=epochs, \n",
    "                    batch_size=128,\n",
    "                    verbose=1,\n",
    "                    validation_data=(X_valid, y_valid))"
   ]
  },
  {
   "cell_type": "code",
   "execution_count": 14,
   "metadata": {},
   "outputs": [
    {
     "data": {
      "image/png": "[encoded data removed]",
      "text/plain": [
       "<Figure size 432x288 with 2 Axes>"
      ]
     },
     "execution_count": 14,
     "metadata": {},
     "output_type": "execute_result"
    },
    {
     "data": {
      "image/png": "[encoded data removed]",
      "text/plain": [
       "<Figure size 432x288 with 2 Axes>"
      ]
     },
     "metadata": {
      "needs_background": "light"
     },
     "output_type": "display_data"
    }
   ],
   "source": [
    "# plotting the metrics\n",
    "fig = plt.figure()\n",
    "plt.subplot(2,1,1)\n",
    "plt.plot(history.history['accuracy'])\n",
    "plt.plot(history.history['val_accuracy'])\n",
    "plt.title('model accuracy')\n",
    "plt.ylabel('accuracy')\n",
    "plt.xlabel('epoch')\n",
    "plt.legend(['train', 'test'], loc='lower right')\n",
    "\n",
    "plt.subplot(2,1,2)\n",
    "plt.plot(history.history['loss'])\n",
    "plt.plot(history.history['val_loss'])\n",
    "plt.title('model loss')\n",
    "plt.ylabel('loss')\n",
    "plt.xlabel('epoch')\n",
    "plt.legend(['train', 'test'], loc='upper right')\n",
    "\n",
    "plt.tight_layout()\n",
    "\n",
    "fig"
   ]
  }
 ],
 "metadata": {
  "interpreter": {
   "hash": "22ed8e12bd7b5b2bd6aad244c213afacecdfb879e10df458830206f5993f4a6c"
  },
  "kernelspec": {
   "display_name": "Python 3 (ipykernel)",
   "language": "python",
   "name": "python3"
  },
  "language_info": {
   "codemirror_mode": {
    "name": "ipython",
    "version": 3
   },
   "file_extension": ".py",
   "mimetype": "text/x-python",
   "name": "python",
   "nbconvert_exporter": "python",
   "pygments_lexer": "ipython3",
   "version": "3.10.4"
  }
 },
 "nbformat": 4,
 "nbformat_minor": 2
}
