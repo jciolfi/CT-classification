{
 "cells": [
  {
   "cell_type": "code",
   "execution_count": 1,
   "id": "6ef3c537-59ee-4ead-beaa-7737f27e6853",
   "metadata": {},
   "outputs": [],
   "source": [
    "import numpy as np\n",
    "import pandas as pd\n",
    "import matplotlib\n",
    "import os\n",
    "from matplotlib import image, pyplot as plt"
   ]
  },
  {
   "cell_type": "code",
   "execution_count": 2,
   "id": "f1b99b76-6f0c-4192-bd89-1acbd8972324",
   "metadata": {},
   "outputs": [],
   "source": [
    "def get_image_data(h_types, window, h_type_image_count, sub, rand=0):\n",
    "    np.random.seed(rand)\n",
    "    data = []\n",
    "    labels = []\n",
    "    num_images_list = [h_type_image_count for _ in range(len(h_types))] if isinstance(h_type_image_count, int) else h_type_image_count\n",
    "    assert(len(num_images_list) == len(h_types))\n",
    "    \n",
    "    for h_type, num_images in zip(h_types, num_images_list):\n",
    "        print(f'Starting {h_type}.')\n",
    "        file_dir = f'dcms/renders/{h_type}/{h_type}/{window}/'\n",
    "        img_names = np.array(os.listdir(file_dir))\n",
    "        np.random.shuffle(img_names)\n",
    "        if (n := len(img_names)) < num_images:\n",
    "            print(f'You asked for {num_images}, but can only find {n} for {h_type}. Returning {n} images.')\n",
    "        else:\n",
    "            img_names = img_names[:num_images]\n",
    "\n",
    "        ACTUAL_NUM_IMAGES = len(img_names)\n",
    "\n",
    "        pulled_data = np.zeros([ACTUAL_NUM_IMAGES, int((512*512)/(sub ** 2))])\n",
    "\n",
    "        for i, img in enumerate(img_names):\n",
    "            if (i % 1000) == 0:\n",
    "                print(f'{h_type}: {i}/{pulled_data.shape[0]}')\n",
    "            im = np.mean(matplotlib.image.imread(file_dir + img),axis=2)\n",
    "            if ((s := im.shape) != (512,512)):\n",
    "                print(f'{img} not of correct dimensions (512,512). It is instead {s}. Removing image.')\n",
    "                ACTUAL_NUM_IMAGES -= 1\n",
    "                continue\n",
    "            pulled_data[i,:] = im[::sub, ::sub].reshape(-1)\n",
    "        \n",
    "        data.append(pulled_data[:ACTUAL_NUM_IMAGES])\n",
    "        labels.append(np.repeat(h_type, ACTUAL_NUM_IMAGES))\n",
    "        print(f'Finished {h_type}.')\n",
    "    \n",
    "    return np.concatenate(data), np.concatenate(labels)"
   ]
  },
  {
   "cell_type": "markdown",
   "id": "a688c078",
   "metadata": {},
   "source": [
    "## Linear Regression"
   ]
  },
  {
   "cell_type": "code",
   "execution_count": 3,
   "id": "4ceaf7fc",
   "metadata": {},
   "outputs": [],
   "source": [
    "from sklearn.linear_model import LinearRegression\n",
    "from sklearn import metrics"
   ]
  },
  {
   "cell_type": "code",
   "execution_count": 4,
   "id": "750c8204-1a4c-44cf-adc7-3eb0af353b4d",
   "metadata": {},
   "outputs": [
    {
     "name": "stdout",
     "output_type": "stream",
     "text": [
      "Starting normal.\n",
      "normal: 0/1000\n",
      "Finished normal.\n",
      "Starting epidural.\n",
      "epidural: 0/1000\n",
      "Finished epidural.\n",
      "Starting intraparenchymal.\n",
      "intraparenchymal: 0/1000\n",
      "Finished intraparenchymal.\n",
      "Starting intraventricular.\n",
      "intraventricular: 0/1000\n",
      "Finished intraventricular.\n",
      "Starting subarachnoid.\n",
      "subarachnoid: 0/1000\n",
      "Finished subarachnoid.\n",
      "Starting subdural.\n",
      "subdural: 0/1000\n",
      "ID_176e4f16d.jpg not of correct dimensions (512,512). It is instead (638, 490). Removing image.\n",
      "ID_b966185b8.jpg not of correct dimensions (512,512). It is instead (462, 462). Removing image.\n",
      "ID_88b0d8b4f.jpg not of correct dimensions (512,512). It is instead (638, 490). Removing image.\n",
      "ID_7a02fdbea.jpg not of correct dimensions (512,512). It is instead (666, 512). Removing image.\n",
      "Finished subdural.\n",
      "Starting multi.\n",
      "multi: 0/1000\n",
      "Finished multi.\n"
     ]
    },
    {
     "data": {
      "text/plain": [
       "(6996, 4096)"
      ]
     },
     "metadata": {},
     "output_type": "display_data"
    },
    {
     "data": {
      "text/plain": [
       "(6996,)"
      ]
     },
     "metadata": {},
     "output_type": "display_data"
    }
   ],
   "source": [
    "X_train, y_train = get_image_data(['normal', 'epidural', 'intraparenchymal', 'intraventricular', 'subarachnoid', 'subdural', 'multi'] , 'brain_bone_window', 1000, 8, 1)\n",
    "display(X_train.shape)\n",
    "display(y_train.shape)"
   ]
  },
  {
   "cell_type": "code",
   "execution_count": 5,
   "id": "026d58eb",
   "metadata": {},
   "outputs": [
    {
     "name": "stdout",
     "output_type": "stream",
     "text": [
      "Starting normal.\n",
      "normal: 0/100\n",
      "Finished normal.\n",
      "Starting epidural.\n",
      "epidural: 0/100\n",
      "Finished epidural.\n",
      "Starting intraparenchymal.\n",
      "intraparenchymal: 0/100\n",
      "Finished intraparenchymal.\n",
      "Starting intraventricular.\n",
      "intraventricular: 0/100\n",
      "Finished intraventricular.\n",
      "Starting subarachnoid.\n",
      "subarachnoid: 0/100\n",
      "Finished subarachnoid.\n",
      "Starting subdural.\n",
      "subdural: 0/100\n",
      "Finished subdural.\n",
      "Starting multi.\n",
      "multi: 0/100\n",
      "Finished multi.\n"
     ]
    },
    {
     "data": {
      "text/plain": [
       "(700, 4096)"
      ]
     },
     "metadata": {},
     "output_type": "display_data"
    },
    {
     "data": {
      "text/plain": [
       "(700,)"
      ]
     },
     "metadata": {},
     "output_type": "display_data"
    }
   ],
   "source": [
    "X_test, y_test = get_image_data(['normal','epidural', 'intraparenchymal', 'intraventricular', 'subarachnoid', 'subdural', 'multi'] , 'brain_bone_window', 100, 8, 123123)\n",
    "display(X_test.shape)\n",
    "display(y_test.shape)"
   ]
  },
  {
   "cell_type": "code",
   "execution_count": 6,
   "id": "3221ac61-2646-45a0-9118-3ea5eaf8bdea",
   "metadata": {},
   "outputs": [
    {
     "data": {
      "text/plain": [
       "<matplotlib.image.AxesImage at 0x1e1b5845040>"
      ]
     },
     "execution_count": 6,
     "metadata": {},
     "output_type": "execute_result"
    },
    {
     "data": {
      "image/png": "[encoded data removed]",
      "text/plain": [
       "<Figure size 432x288 with 1 Axes>"
      ]
     },
     "metadata": {
      "needs_background": "light"
     },
     "output_type": "display_data"
    }
   ],
   "source": [
    "matplotlib.pyplot.imshow(X_train[0].reshape(int(X_train.shape[1]**.5),int(X_train.shape[1]**.5)))"
   ]
  },
  {
   "cell_type": "markdown",
   "id": "4461a92b",
   "metadata": {},
   "source": [
    "### Convert label strings to int"
   ]
  },
  {
   "cell_type": "code",
   "execution_count": 7,
   "id": "455b7e1c",
   "metadata": {},
   "outputs": [],
   "source": [
    "y_train = np.where(y_train == \"normal\", 0, y_train)\n",
    "y_train = np.where(y_train == \"epidural\", 1, y_train)\n",
    "y_train = np.where(y_train == \"intraparenchymal\", 2, y_train)\n",
    "y_train = np.where(y_train == \"intraventricular\", 3, y_train)\n",
    "y_train = np.where(y_train == \"multi\", 4, y_train)\n",
    "y_train = np.where(y_train == \"subarachnoid\", 5, y_train)\n",
    "y_train = np.where(y_train == \"subdural\", 6, y_train)\n",
    "\n",
    "y_train = y_train.astype('int')"
   ]
  },
  {
   "cell_type": "code",
   "execution_count": 8,
   "id": "b1c077f4",
   "metadata": {},
   "outputs": [],
   "source": [
    "y_test = np.where(y_test == \"normal\", 0, y_test)\n",
    "y_test = np.where(y_test == \"epidural\", 1, y_test)\n",
    "y_test = np.where(y_test == \"intraparenchymal\", 2, y_test)\n",
    "y_test = np.where(y_test == \"intraventricular\", 3, y_test)\n",
    "y_test = np.where(y_test == \"multi\", 4, y_test)\n",
    "y_test = np.where(y_test == \"subarachnoid\", 5, y_test)\n",
    "y_test = np.where(y_test == \"subdural\", 6, y_test)\n",
    "\n",
    "y_test = y_test.astype('int')"
   ]
  },
  {
   "cell_type": "markdown",
   "id": "267ca15c",
   "metadata": {},
   "source": [
    "## Logistic Regression"
   ]
  },
  {
   "cell_type": "code",
   "execution_count": 9,
   "id": "868eb002",
   "metadata": {},
   "outputs": [],
   "source": [
    "from sklearn.linear_model import LogisticRegression\n",
    "from sklearn.metrics import confusion_matrix, ConfusionMatrixDisplay"
   ]
  },
  {
   "cell_type": "code",
   "execution_count": 10,
   "id": "849a8887",
   "metadata": {},
   "outputs": [],
   "source": [
    "## LBFGS"
   ]
  },
  {
   "cell_type": "code",
   "execution_count": 12,
   "id": "d381fe75",
   "metadata": {},
   "outputs": [
    {
     "name": "stderr",
     "output_type": "stream",
     "text": [
      "C:\\Users\\Nathaniel\\anaconda3\\lib\\site-packages\\sklearn\\linear_model\\_logistic.py:763: ConvergenceWarning: lbfgs failed to converge (status=1):\n",
      "STOP: TOTAL NO. of ITERATIONS REACHED LIMIT.\n",
      "\n",
      "Increase the number of iterations (max_iter) or scale the data as shown in:\n",
      "    https://scikit-learn.org/stable/modules/preprocessing.html\n",
      "Please also refer to the documentation for alternative solver options:\n",
      "    https://scikit-learn.org/stable/modules/linear_model.html#logistic-regression\n",
      "  n_iter_i = _check_optimize_result(\n"
     ]
    },
    {
     "data": {
      "text/plain": [
       "LogisticRegression(max_iter=1000)"
      ]
     },
     "execution_count": 12,
     "metadata": {},
     "output_type": "execute_result"
    }
   ],
   "source": [
    "logReg = LogisticRegression(solver='lbfgs',max_iter=1000)\n",
    "logReg.fit(X_train,y_train)"
   ]
  },
  {
   "cell_type": "code",
   "execution_count": 13,
   "id": "b68dc83b",
   "metadata": {},
   "outputs": [],
   "source": [
    "y_pred = logReg.predict(X_test)"
   ]
  },
  {
   "cell_type": "code",
   "execution_count": 14,
   "id": "aea68005",
   "metadata": {},
   "outputs": [],
   "source": [
    "# Round to nearest label\n",
    "y_pred = np.rint(y_pred)\n",
    "y_pred = np.where(y_pred >6, 6, y_pred)\n",
    "y_pred = np.where(y_pred <0, 0, y_pred)"
   ]
  },
  {
   "cell_type": "code",
   "execution_count": 15,
   "id": "8ca0f2df",
   "metadata": {},
   "outputs": [
    {
     "data": {
      "text/plain": [
       "4166.0"
      ]
     },
     "execution_count": 15,
     "metadata": {},
     "output_type": "execute_result"
    }
   ],
   "source": [
    "RSS = 0\n",
    "for i, item in enumerate(y_test):\n",
    "    RSS += (y_test[i]-y_pred[i])**2\n",
    "RSS"
   ]
  },
  {
   "cell_type": "code",
   "execution_count": 16,
   "id": "ed9554de",
   "metadata": {},
   "outputs": [],
   "source": [
    "cnf_matrix = metrics.confusion_matrix(y_test,y_pred)\n"
   ]
  },
  {
   "cell_type": "code",
   "execution_count": 17,
   "id": "5842ca7e",
   "metadata": {},
   "outputs": [
    {
     "data": {
      "text/plain": [
       "<sklearn.metrics._plot.confusion_matrix.ConfusionMatrixDisplay at 0x1e1b5899fa0>"
      ]
     },
     "execution_count": 17,
     "metadata": {},
     "output_type": "execute_result"
    },
    {
     "data": {
      "image/png": "[encoded data removed]",
      "text/plain": [
       "<Figure size 432x288 with 2 Axes>"
      ]
     },
     "metadata": {
      "needs_background": "light"
     },
     "output_type": "display_data"
    }
   ],
   "source": [
    "cmd = ConfusionMatrixDisplay(cnf_matrix, display_labels=['Normal', 'Epidural', 'Intraparenchymal', 'Intraventricular', 'Subarachnoid', 'Subdural', 'Multi'])\n",
    "\n",
    "cmd.plot()"
   ]
  },
  {
   "cell_type": "code",
   "execution_count": 18,
   "id": "282baffe",
   "metadata": {},
   "outputs": [],
   "source": [
    "## SAG"
   ]
  },
  {
   "cell_type": "code",
   "execution_count": 19,
   "id": "20faacfe",
   "metadata": {},
   "outputs": [
    {
     "name": "stderr",
     "output_type": "stream",
     "text": [
      "C:\\Users\\Nathaniel\\anaconda3\\lib\\site-packages\\sklearn\\linear_model\\_sag.py:328: ConvergenceWarning: The max_iter was reached which means the coef_ did not converge\n",
      "  warnings.warn(\"The max_iter was reached which means \"\n"
     ]
    }
   ],
   "source": [
    "logReg = LogisticRegression(solver='sag',max_iter=100)\n",
    "logReg.fit(X_train,y_train)\n",
    "y_pred = logReg.predict(X_test)\n",
    "# Round to nearest label\n",
    "y_pred = np.rint(y_pred)\n",
    "y_pred = np.where(y_pred >6, 6, y_pred)\n",
    "y_pred = np.where(y_pred <0, 0, y_pred)"
   ]
  },
  {
   "cell_type": "code",
   "execution_count": 23,
   "id": "eb1fede1",
   "metadata": {},
   "outputs": [
    {
     "data": {
      "text/plain": [
       "4222.0"
      ]
     },
     "execution_count": 23,
     "metadata": {},
     "output_type": "execute_result"
    }
   ],
   "source": [
    "RSS = 0\n",
    "for i, item in enumerate(y_test):\n",
    "    RSS += (y_test[i]-y_pred[i])**2\n",
    "RSS"
   ]
  },
  {
   "cell_type": "code",
   "execution_count": 24,
   "id": "ea8a8ee6",
   "metadata": {
    "scrolled": true
   },
   "outputs": [
    {
     "data": {
      "text/plain": [
       "<sklearn.metrics._plot.confusion_matrix.ConfusionMatrixDisplay at 0x1e1b99a4220>"
      ]
     },
     "execution_count": 24,
     "metadata": {},
     "output_type": "execute_result"
    },
    {
     "data": {
      "image/png": "[encoded data removed]",
      "text/plain": [
       "<Figure size 432x288 with 2 Axes>"
      ]
     },
     "metadata": {
      "needs_background": "light"
     },
     "output_type": "display_data"
    }
   ],
   "source": [
    "cnf_matrix = metrics.confusion_matrix(y_test,y_pred)\n",
    "cmd = ConfusionMatrixDisplay(cnf_matrix, display_labels=['Normal', 'Epidural', 'Intraparenchymal', 'Intraventricular', 'Subarachnoid', 'Subdural', 'Multi'])\n",
    "cmd.plot()"
   ]
  },
  {
   "cell_type": "code",
   "execution_count": 20,
   "id": "1be56205",
   "metadata": {},
   "outputs": [],
   "source": [
    "## SAGA"
   ]
  },
  {
   "cell_type": "code",
   "execution_count": 28,
   "id": "d3f29494",
   "metadata": {},
   "outputs": [
    {
     "name": "stderr",
     "output_type": "stream",
     "text": [
      "C:\\Users\\Nathaniel\\anaconda3\\lib\\site-packages\\sklearn\\linear_model\\_sag.py:328: ConvergenceWarning: The max_iter was reached which means the coef_ did not converge\n",
      "  warnings.warn(\"The max_iter was reached which means \"\n"
     ]
    }
   ],
   "source": [
    "logReg = LogisticRegression(solver='saga',max_iter=100)\n",
    "logReg.fit(X_train,y_train)\n",
    "y_pred = logReg.predict(X_test)\n",
    "# Round to nearest label\n",
    "y_pred = np.rint(y_pred)\n",
    "y_pred = np.where(y_pred >6, 6, y_pred)\n",
    "y_pred = np.where(y_pred <0, 0, y_pred)"
   ]
  },
  {
   "cell_type": "code",
   "execution_count": 29,
   "id": "0c504a09",
   "metadata": {},
   "outputs": [
    {
     "data": {
      "text/plain": [
       "4232.0"
      ]
     },
     "execution_count": 29,
     "metadata": {},
     "output_type": "execute_result"
    }
   ],
   "source": [
    "RSS = 0\n",
    "for i, item in enumerate(y_test):\n",
    "    RSS += (y_test[i]-y_pred[i])**2\n",
    "RSS"
   ]
  },
  {
   "cell_type": "code",
   "execution_count": 30,
   "id": "584ac6ec",
   "metadata": {},
   "outputs": [
    {
     "data": {
      "text/plain": [
       "<sklearn.metrics._plot.confusion_matrix.ConfusionMatrixDisplay at 0x1e1b99bcd60>"
      ]
     },
     "execution_count": 30,
     "metadata": {},
     "output_type": "execute_result"
    },
    {
     "data": {
      "image/png": "[encoded data removed]",
      "text/plain": [
       "<Figure size 432x288 with 2 Axes>"
      ]
     },
     "metadata": {
      "needs_background": "light"
     },
     "output_type": "display_data"
    }
   ],
   "source": [
    "cnf_matrix = metrics.confusion_matrix(y_test,y_pred)\n",
    "cmd = ConfusionMatrixDisplay(cnf_matrix, display_labels=['Normal', 'Epidural', 'Intraparenchymal', 'Intraventricular', 'Subarachnoid', 'Subdural', 'Multi'])\n",
    "cmd.plot()"
   ]
  },
  {
   "cell_type": "code",
   "execution_count": 34,
   "id": "34c084c2",
   "metadata": {},
   "outputs": [
    {
     "name": "stderr",
     "output_type": "stream",
     "text": [
      "C:\\Users\\Nathaniel\\anaconda3\\lib\\site-packages\\sklearn\\utils\\optimize.py:202: ConvergenceWarning: newton-cg failed to converge. Increase the number of iterations.\n",
      "  warnings.warn(\"newton-cg failed to converge. Increase the \"\n"
     ]
    }
   ],
   "source": [
    "## Newton-CG\n",
    "logReg = LogisticRegression(solver='newton-cg',max_iter=100)\n",
    "logReg.fit(X_train,y_train)\n",
    "y_pred = logReg.predict(X_test)\n",
    "# Round to nearest label\n",
    "y_pred = np.rint(y_pred)\n",
    "y_pred = np.where(y_pred >6, 6, y_pred)\n",
    "y_pred = np.where(y_pred <0, 0, y_pred)"
   ]
  },
  {
   "cell_type": "code",
   "execution_count": 32,
   "id": "4ae179d2",
   "metadata": {},
   "outputs": [
    {
     "data": {
      "text/plain": [
       "4230.0"
      ]
     },
     "execution_count": 32,
     "metadata": {},
     "output_type": "execute_result"
    }
   ],
   "source": [
    "RSS = 0\n",
    "for i, item in enumerate(y_test):\n",
    "    RSS += (y_test[i]-y_pred[i])**2\n",
    "RSS"
   ]
  },
  {
   "cell_type": "code",
   "execution_count": 33,
   "id": "d756794f",
   "metadata": {},
   "outputs": [
    {
     "data": {
      "text/plain": [
       "<sklearn.metrics._plot.confusion_matrix.ConfusionMatrixDisplay at 0x1e1c3570040>"
      ]
     },
     "execution_count": 33,
     "metadata": {},
     "output_type": "execute_result"
    },
    {
     "data": {
      "image/png": "[encoded data removed]",
      "text/plain": [
       "<Figure size 432x288 with 2 Axes>"
      ]
     },
     "metadata": {
      "needs_background": "light"
     },
     "output_type": "display_data"
    }
   ],
   "source": [
    "cnf_matrix = metrics.confusion_matrix(y_test,y_pred)\n",
    "cmd = ConfusionMatrixDisplay(cnf_matrix, display_labels=['Normal', 'Epidural', 'Intraparenchymal', 'Intraventricular', 'Subarachnoid', 'Subdural', 'Multi'])\n",
    "cmd.plot()"
   ]
  },
  {
   "cell_type": "code",
   "execution_count": null,
   "id": "776225f5",
   "metadata": {},
   "outputs": [],
   "source": []
  }
 ],
 "metadata": {
  "kernelspec": {
   "display_name": "Python 3 (ipykernel)",
   "language": "python",
   "name": "python3"
  },
  "language_info": {
   "codemirror_mode": {
    "name": "ipython",
    "version": 3
   },
   "file_extension": ".py",
   "mimetype": "text/x-python",
   "name": "python",
   "nbconvert_exporter": "python",
   "pygments_lexer": "ipython3",
   "version": "3.9.7"
  }
 },
 "nbformat": 4,
 "nbformat_minor": 5
}
